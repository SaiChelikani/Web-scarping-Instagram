{
 "cells": [
  {
   "cell_type": "code",
   "execution_count": 1,
   "metadata": {},
   "outputs": [],
   "source": [
    "import numpy as np\n",
    "import pandas as pd \n",
    "import re\n",
    "import bs4 \n",
    "from bs4 import BeautifulSoup\n",
    "import requests as req\n"
   ]
  },
  {
   "cell_type": "code",
   "execution_count": 2,
   "metadata": {},
   "outputs": [
    {
     "data": {
      "text/plain": [
       "<Response [200]>"
      ]
     },
     "execution_count": 2,
     "metadata": {},
     "output_type": "execute_result"
    }
   ],
   "source": [
    "data=req.get('https://influencermarketinghub.com/25-most-popular-instagram-hashtags/')\n",
    "data"
   ]
  },
  {
   "cell_type": "code",
   "execution_count": 3,
   "metadata": {},
   "outputs": [],
   "source": [
    "data_bs=BeautifulSoup(data.text)\n"
   ]
  },
  {
   "cell_type": "code",
   "execution_count": 4,
   "metadata": {},
   "outputs": [
    {
     "data": {
      "text/plain": [
       "[<li style=\"font-weight: 400;\"><span style=\"font-weight: 400;\">#love</span></li>,\n",
       " <li style=\"font-weight: 400;\"><span style=\"font-weight: 400;\">#instagood</span></li>,\n",
       " <li style=\"font-weight: 400;\"><span style=\"font-weight: 400;\">#photooftheday</span></li>,\n",
       " <li style=\"font-weight: 400;\"><span style=\"font-weight: 400;\">#fashion</span></li>,\n",
       " <li style=\"font-weight: 400;\"><span style=\"font-weight: 400;\">#beautiful</span></li>,\n",
       " <li style=\"font-weight: 400;\"><span style=\"font-weight: 400;\">#happy</span></li>,\n",
       " <li style=\"font-weight: 400;\"><span style=\"font-weight: 400;\">#cute</span></li>,\n",
       " <li style=\"font-weight: 400;\"><span style=\"font-weight: 400;\">#tbt</span></li>,\n",
       " <li style=\"font-weight: 400;\"><span style=\"font-weight: 400;\">#like4like</span></li>,\n",
       " <li style=\"font-weight: 400;\"><span style=\"font-weight: 400;\">#followme</span></li>,\n",
       " <li style=\"font-weight: 400;\"><span style=\"font-weight: 400;\">#picoftheday</span></li>,\n",
       " <li style=\"font-weight: 400;\"><span style=\"font-weight: 400;\">#follow</span></li>,\n",
       " <li style=\"font-weight: 400;\"><span style=\"font-weight: 400;\">#me</span></li>,\n",
       " <li style=\"font-weight: 400;\"><span style=\"font-weight: 400;\">#selfie</span></li>,\n",
       " <li style=\"font-weight: 400;\"><span style=\"font-weight: 400;\">#summer</span></li>,\n",
       " <li style=\"font-weight: 400;\"><span style=\"font-weight: 400;\">#art</span></li>,\n",
       " <li style=\"font-weight: 400;\"><span style=\"font-weight: 400;\">#instadaily</span></li>,\n",
       " <li style=\"font-weight: 400;\"><span style=\"font-weight: 400;\">#friends</span></li>,\n",
       " <li style=\"font-weight: 400;\"><span style=\"font-weight: 400;\">#repost</span></li>,\n",
       " <li style=\"font-weight: 400;\"><span style=\"font-weight: 400;\">#nature</span></li>,\n",
       " <li style=\"font-weight: 400;\"><span style=\"font-weight: 400;\">#girl</span></li>,\n",
       " <li style=\"font-weight: 400;\"><span style=\"font-weight: 400;\">#fun</span></li>,\n",
       " <li style=\"font-weight: 400;\"><span style=\"font-weight: 400;\">#style</span></li>,\n",
       " <li style=\"font-weight: 400;\"><span style=\"font-weight: 400;\">#smile</span></li>,\n",
       " <li style=\"font-weight: 400;\"><span style=\"font-weight: 400;\">#food</span></li>,\n",
       " <li style=\"font-weight: 400;\"><span style=\"font-weight: 400;\">#love</span></li>,\n",
       " <li style=\"font-weight: 400;\"><span style=\"font-weight: 400;\">#instagood</span></li>,\n",
       " <li style=\"font-weight: 400;\"><span style=\"font-weight: 400;\">#photooftheday</span></li>,\n",
       " <li style=\"font-weight: 400;\"><span style=\"font-weight: 400;\">#fashion</span></li>,\n",
       " <li style=\"font-weight: 400;\"><span style=\"font-weight: 400;\">#beautiful</span></li>,\n",
       " <li style=\"font-weight: 400;\"><span style=\"font-weight: 400;\">#happy</span></li>,\n",
       " <li style=\"font-weight: 400;\"><span style=\"font-weight: 400;\">#cute</span></li>,\n",
       " <li style=\"font-weight: 400;\"><span style=\"font-weight: 400;\">#tbt</span></li>,\n",
       " <li style=\"font-weight: 400;\"><span style=\"font-weight: 400;\">#like4like</span></li>,\n",
       " <li style=\"font-weight: 400;\"><span style=\"font-weight: 400;\">#followme</span></li>,\n",
       " <li style=\"font-weight: 400;\"><span style=\"font-weight: 400;\">#picoftheday</span></li>,\n",
       " <li style=\"font-weight: 400;\"><span style=\"font-weight: 400;\">#follow</span></li>,\n",
       " <li style=\"font-weight: 400;\"><span style=\"font-weight: 400;\">#me</span></li>,\n",
       " <li style=\"font-weight: 400;\"><span style=\"font-weight: 400;\">#selfie</span></li>,\n",
       " <li style=\"font-weight: 400;\"><span style=\"font-weight: 400;\">#summer</span></li>,\n",
       " <li style=\"font-weight: 400;\"><span style=\"font-weight: 400;\">#art</span></li>,\n",
       " <li style=\"font-weight: 400;\"><span style=\"font-weight: 400;\">#instadaily</span></li>,\n",
       " <li style=\"font-weight: 400;\"><span style=\"font-weight: 400;\">#friends</span></li>,\n",
       " <li style=\"font-weight: 400;\"><span style=\"font-weight: 400;\">#repost</span></li>,\n",
       " <li style=\"font-weight: 400;\"><span style=\"font-weight: 400;\">#nature</span></li>,\n",
       " <li style=\"font-weight: 400;\"><span style=\"font-weight: 400;\">#girl</span></li>,\n",
       " <li style=\"font-weight: 400;\"><span style=\"font-weight: 400;\">#fun</span></li>,\n",
       " <li style=\"font-weight: 400;\"><span style=\"font-weight: 400;\">#style</span></li>,\n",
       " <li style=\"font-weight: 400;\"><span style=\"font-weight: 400;\">#smile</span></li>,\n",
       " <li style=\"font-weight: 400;\"><span style=\"font-weight: 400;\">#food</span></li>]"
      ]
     },
     "execution_count": 4,
     "metadata": {},
     "output_type": "execute_result"
    }
   ],
   "source": [
    "df=data_bs.find_all(\"li\",style=\"font-weight: 400;\")\n",
    "df"
   ]
  },
  {
   "cell_type": "code",
   "execution_count": 10,
   "metadata": {},
   "outputs": [],
   "source": [
    "Name_tag=[]\n",
    "for i in df:\n",
    "    name_tag=i.text\n",
    "    #print(name_tag)\n",
    "    model = re.findall(r'[a-z]+',name_tag)\n",
    "    #print(model)\n",
    "    Name_tag.append(''.join(model))\n",
    "    "
   ]
  },
  {
   "cell_type": "code",
   "execution_count": 12,
   "metadata": {},
   "outputs": [
    {
     "name": "stdout",
     "output_type": "stream",
     "text": [
      "{'instagood', 'follow', 'selfie', 'style', 'fashion', 'followme', 'happy', 'food', 'summer', 'photooftheday', 'likelike', 'fun', 'beautiful', 'girl', 'friends', 'me', 'tbt', 'cute', 'picoftheday', 'art', 'smile', 'love', 'repost', 'nature', 'instadaily'}\n"
     ]
    }
   ],
   "source": [
    "Name_tag=set(Name_tag)\n",
    "print(Name_tag)"
   ]
  },
  {
   "cell_type": "code",
   "execution_count": 13,
   "metadata": {},
   "outputs": [
    {
     "data": {
      "text/plain": [
       "['instagood',\n",
       " 'follow',\n",
       " 'selfie',\n",
       " 'style',\n",
       " 'fashion',\n",
       " 'followme',\n",
       " 'happy',\n",
       " 'food',\n",
       " 'summer',\n",
       " 'photooftheday',\n",
       " 'likelike',\n",
       " 'fun',\n",
       " 'beautiful',\n",
       " 'girl',\n",
       " 'friends',\n",
       " 'me',\n",
       " 'tbt',\n",
       " 'cute',\n",
       " 'picoftheday',\n",
       " 'art',\n",
       " 'smile',\n",
       " 'love',\n",
       " 'repost',\n",
       " 'nature',\n",
       " 'instadaily']"
      ]
     },
     "execution_count": 13,
     "metadata": {},
     "output_type": "execute_result"
    }
   ],
   "source": [
    "Name_tag=list(filter(lambda a:a.strip(),Name_tag))\n",
    "#+Name_tag"
   ]
  },
  {
   "cell_type": "code",
   "execution_count": 8,
   "metadata": {},
   "outputs": [
    {
     "data": {
      "text/plain": [
       "25"
      ]
     },
     "execution_count": 8,
     "metadata": {},
     "output_type": "execute_result"
    }
   ],
   "source": [
    "len(Name_tag)"
   ]
  },
  {
   "cell_type": "code",
   "execution_count": 14,
   "metadata": {},
   "outputs": [
    {
     "name": "stdout",
     "output_type": "stream",
     "text": [
      "https://www.instagram.com/explore/tags/instagood\n",
      "<Response [200]>\n",
      "1b Posts - See Instagram photos and videos from ‘instagood’ hashtag\n",
      "['1']\n",
      "https://www.instagram.com/explore/tags/follow\n",
      "<Response [200]>\n",
      "518m Posts - See Instagram photos and videos from ‘follow’ hashtag\n",
      "['518']\n",
      "https://www.instagram.com/explore/tags/selfie\n",
      "<Response [200]>\n",
      "409.2m Posts - See Instagram photos and videos from ‘selfie’ hashtag\n",
      "['409.2']\n",
      "https://www.instagram.com/explore/tags/style\n",
      "<Response [200]>\n",
      "434.1m Posts - See Instagram photos and videos from ‘style’ hashtag\n",
      "['434.1']\n",
      "https://www.instagram.com/explore/tags/fashion\n",
      "<Response [200]>\n",
      "746.8m Posts - See Instagram photos and videos from ‘fashion’ hashtag\n",
      "['746.8']\n",
      "https://www.instagram.com/explore/tags/followme\n",
      "<Response [200]>\n",
      "505.8m Posts - See Instagram photos and videos from ‘followme’ hashtag\n",
      "['505.8']\n",
      "https://www.instagram.com/explore/tags/happy\n",
      "<Response [200]>\n",
      "550.6m Posts - See Instagram photos and videos from ‘happy’ hashtag\n",
      "['550.6']\n",
      "https://www.instagram.com/explore/tags/food\n",
      "<Response [200]>\n",
      "363.5m Posts - See Instagram photos and videos from ‘food’ hashtag\n",
      "['363.5']\n",
      "https://www.instagram.com/explore/tags/summer\n",
      "<Response [200]>\n",
      "444.6m Posts - See Instagram photos and videos from ‘summer’ hashtag\n",
      "['444.6']\n",
      "https://www.instagram.com/explore/tags/photooftheday\n",
      "<Response [200]>\n",
      "732.4m Posts - See Instagram photos and videos from ‘photooftheday’ hashtag\n",
      "['732.4']\n",
      "https://www.instagram.com/explore/tags/likelike\n",
      "<Response [200]>\n",
      "12.5m Posts - See Instagram photos and videos from ‘likelike’ hashtag\n",
      "['12.5']\n",
      "https://www.instagram.com/explore/tags/fun\n",
      "<Response [200]>\n",
      "370.4m Posts - See Instagram photos and videos from ‘fun’ hashtag\n",
      "['370.4']\n",
      "https://www.instagram.com/explore/tags/beautiful\n",
      "<Response [200]>\n",
      "622.2m Posts - See Instagram photos and videos from ‘beautiful’ hashtag\n",
      "['622.2']\n",
      "https://www.instagram.com/explore/tags/girl\n",
      "<Response [200]>\n",
      "375.9m Posts - See Instagram photos and videos from ‘girl’ hashtag\n",
      "['375.9']\n",
      "https://www.instagram.com/explore/tags/friends\n",
      "<Response [200]>\n",
      "382.7m Posts - See Instagram photos and videos from ‘friends’ hashtag\n",
      "['382.7']\n",
      "https://www.instagram.com/explore/tags/me\n",
      "<Response [200]>\n",
      "408.3m Posts - See Instagram photos and videos from ‘me’ hashtag\n",
      "['408.3']\n",
      "https://www.instagram.com/explore/tags/tbt\n",
      "<Response [200]>\n",
      "509.6m Posts - See Instagram photos and videos from ‘tbt’ hashtag\n",
      "['509.6']\n",
      "https://www.instagram.com/explore/tags/cute\n",
      "<Response [200]>\n",
      "537.2m Posts - See Instagram photos and videos from ‘cute’ hashtag\n",
      "['537.2']\n",
      "https://www.instagram.com/explore/tags/picoftheday\n",
      "<Response [200]>\n",
      "531.7m Posts - See Instagram photos and videos from ‘picoftheday’ hashtag\n",
      "['531.7']\n",
      "https://www.instagram.com/explore/tags/art\n",
      "<Response [200]>\n",
      "569.6m Posts - See Instagram photos and videos from ‘art’ hashtag\n",
      "['569.6']\n",
      "https://www.instagram.com/explore/tags/smile\n",
      "<Response [200]>\n",
      "346.9m Posts - See Instagram photos and videos from ‘smile’ hashtag\n",
      "['346.9']\n",
      "https://www.instagram.com/explore/tags/love\n",
      "<Response [200]>\n",
      "1.7b Posts - See Instagram photos and videos from ‘love’ hashtag\n",
      "['1.7']\n",
      "https://www.instagram.com/explore/tags/repost\n",
      "<Response [200]>\n",
      "435.3m Posts - See Instagram photos and videos from ‘repost’ hashtag\n",
      "['435.3']\n",
      "https://www.instagram.com/explore/tags/nature\n",
      "<Response [200]>\n",
      "472.6m Posts - See Instagram photos and videos from ‘nature’ hashtag\n",
      "['472.6']\n",
      "https://www.instagram.com/explore/tags/instadaily\n",
      "<Response [200]>\n",
      "416.3m Posts - See Instagram photos and videos from ‘instadaily’ hashtag\n",
      "['416.3']\n"
     ]
    }
   ],
   "source": [
    "r='https://www.instagram.com/explore/tags/'\n",
    "Posts=[]\n",
    "for i in Name_tag:\n",
    "    link=r+i\n",
    "    print(link)\n",
    "    x= req.get(link)\n",
    "    print(x)\n",
    "    y= BeautifulSoup(x.text,'html.parser')\n",
    "    z= y.find('meta', {'name':\"description\"})['content']\n",
    "    print(z)\n",
    "    posts=re.findall(r'\\d*\\.\\d+|\\d+',z+str(Name_tag))#[-+]?\\d*\\.\\d+|\\d+\n",
    "    Posts.append(''.join(posts))\n",
    "    print(posts)\n"
   ]
  },
  {
   "cell_type": "code",
   "execution_count": 18,
   "metadata": {},
   "outputs": [
    {
     "data": {
      "text/plain": [
       "['1',\n",
       " '518',\n",
       " '409.2',\n",
       " '434.1',\n",
       " '746.8',\n",
       " '505.8',\n",
       " '550.6',\n",
       " '363.5',\n",
       " '444.6',\n",
       " '732.4',\n",
       " '12.5',\n",
       " '370.4',\n",
       " '622.2',\n",
       " '375.9',\n",
       " '382.7',\n",
       " '408.3',\n",
       " '509.6',\n",
       " '537.2',\n",
       " '531.7',\n",
       " '569.6',\n",
       " '346.9',\n",
       " '1.7',\n",
       " '435.3',\n",
       " '472.6',\n",
       " '416.3']"
      ]
     },
     "execution_count": 18,
     "metadata": {},
     "output_type": "execute_result"
    }
   ],
   "source": [
    "Posts"
   ]
  },
  {
   "cell_type": "code",
   "execution_count": 19,
   "metadata": {},
   "outputs": [
    {
     "data": {
      "text/plain": [
       "list"
      ]
     },
     "execution_count": 19,
     "metadata": {},
     "output_type": "execute_result"
    }
   ],
   "source": [
    "type(Posts)"
   ]
  },
  {
   "cell_type": "code",
   "execution_count": 74,
   "metadata": {},
   "outputs": [
    {
     "name": "stdout",
     "output_type": "stream",
     "text": [
      "1700.0\n",
      "518.0\n",
      "409.2\n",
      "434.1\n",
      "746.8\n",
      "505.8\n",
      "550.6\n",
      "363.5\n",
      "444.6\n",
      "732.4\n",
      "12.5\n",
      "370.4\n",
      "622.2\n",
      "375.9\n",
      "382.7\n",
      "408.3\n",
      "509.6\n",
      "537.2\n",
      "531.7\n",
      "569.6\n",
      "346.9\n",
      "1700.0\n",
      "435.3\n",
      "472.6\n",
      "416.3\n"
     ]
    }
   ],
   "source": [
    "New_posts=[]\n",
    "for i in Posts:\n",
    "    e = float(i) \n",
    "    if e<=1.8:\n",
    "        e=e*1000\n",
    "        New_posts.append(e)\n",
    "        print(New)\n",
    "    else:\n",
    "        New_posts.append(e)\n",
    "        print(e)\n",
    "    "
   ]
  },
  {
   "cell_type": "code",
   "execution_count": 76,
   "metadata": {},
   "outputs": [
    {
     "data": {
      "text/plain": [
       "25"
      ]
     },
     "execution_count": 76,
     "metadata": {},
     "output_type": "execute_result"
    }
   ],
   "source": [
    "len(New_posts)"
   ]
  },
  {
   "cell_type": "code",
   "execution_count": 87,
   "metadata": {},
   "outputs": [
    {
     "data": {
      "text/plain": [
       "[('instagood', 1000.0),\n",
       " ('follow', 518.0),\n",
       " ('selfie', 409.2),\n",
       " ('style', 434.1),\n",
       " ('fashion', 746.8),\n",
       " ('followme', 505.8),\n",
       " ('happy', 550.6),\n",
       " ('food', 363.5),\n",
       " ('summer', 444.6),\n",
       " ('photooftheday', 732.4),\n",
       " ('likelike', 12.5),\n",
       " ('fun', 370.4),\n",
       " ('beautiful', 622.2),\n",
       " ('girl', 375.9),\n",
       " ('friends', 382.7),\n",
       " ('me', 408.3),\n",
       " ('tbt', 509.6),\n",
       " ('cute', 537.2),\n",
       " ('picoftheday', 531.7),\n",
       " ('art', 569.6),\n",
       " ('smile', 346.9),\n",
       " ('love', 1700.0),\n",
       " ('repost', 435.3),\n",
       " ('nature', 472.6),\n",
       " ('instadaily', 416.3)]"
      ]
     },
     "execution_count": 87,
     "metadata": {},
     "output_type": "execute_result"
    }
   ],
   "source": [
    "Data_Frame=list(zip(Name_tag,New_posts)) ## now merge them by using zip().\n",
    "Data_Frame"
   ]
  },
  {
   "cell_type": "code",
   "execution_count": 88,
   "metadata": {},
   "outputs": [
    {
     "data": {
      "text/plain": [
       "RangeIndex(start=1, stop=26, step=1)"
      ]
     },
     "execution_count": 88,
     "metadata": {},
     "output_type": "execute_result"
    }
   ],
   "source": [
    "# creating a data frame for Instagram-see photos and Videos\n",
    "Data_Frame_df=pd.DataFrame(Data_Frame,columns=['#Tags of Instagram','Instagram photos and videos in (millions)'])\n",
    "Data_Frame_df.index+=1\n",
    "Data_Frame_df.index"
   ]
  },
  {
   "cell_type": "code",
   "execution_count": 89,
   "metadata": {},
   "outputs": [
    {
     "data": {
      "text/html": [
       "<div>\n",
       "<style scoped>\n",
       "    .dataframe tbody tr th:only-of-type {\n",
       "        vertical-align: middle;\n",
       "    }\n",
       "\n",
       "    .dataframe tbody tr th {\n",
       "        vertical-align: top;\n",
       "    }\n",
       "\n",
       "    .dataframe thead th {\n",
       "        text-align: right;\n",
       "    }\n",
       "</style>\n",
       "<table border=\"1\" class=\"dataframe\">\n",
       "  <thead>\n",
       "    <tr style=\"text-align: right;\">\n",
       "      <th></th>\n",
       "      <th>#Tags of Instagram</th>\n",
       "      <th>Instagram photos and videos in (millions)</th>\n",
       "    </tr>\n",
       "  </thead>\n",
       "  <tbody>\n",
       "    <tr>\n",
       "      <th>1</th>\n",
       "      <td>instagood</td>\n",
       "      <td>1000.0</td>\n",
       "    </tr>\n",
       "    <tr>\n",
       "      <th>2</th>\n",
       "      <td>follow</td>\n",
       "      <td>518.0</td>\n",
       "    </tr>\n",
       "    <tr>\n",
       "      <th>3</th>\n",
       "      <td>selfie</td>\n",
       "      <td>409.2</td>\n",
       "    </tr>\n",
       "    <tr>\n",
       "      <th>4</th>\n",
       "      <td>style</td>\n",
       "      <td>434.1</td>\n",
       "    </tr>\n",
       "    <tr>\n",
       "      <th>5</th>\n",
       "      <td>fashion</td>\n",
       "      <td>746.8</td>\n",
       "    </tr>\n",
       "    <tr>\n",
       "      <th>6</th>\n",
       "      <td>followme</td>\n",
       "      <td>505.8</td>\n",
       "    </tr>\n",
       "    <tr>\n",
       "      <th>7</th>\n",
       "      <td>happy</td>\n",
       "      <td>550.6</td>\n",
       "    </tr>\n",
       "    <tr>\n",
       "      <th>8</th>\n",
       "      <td>food</td>\n",
       "      <td>363.5</td>\n",
       "    </tr>\n",
       "    <tr>\n",
       "      <th>9</th>\n",
       "      <td>summer</td>\n",
       "      <td>444.6</td>\n",
       "    </tr>\n",
       "    <tr>\n",
       "      <th>10</th>\n",
       "      <td>photooftheday</td>\n",
       "      <td>732.4</td>\n",
       "    </tr>\n",
       "    <tr>\n",
       "      <th>11</th>\n",
       "      <td>likelike</td>\n",
       "      <td>12.5</td>\n",
       "    </tr>\n",
       "    <tr>\n",
       "      <th>12</th>\n",
       "      <td>fun</td>\n",
       "      <td>370.4</td>\n",
       "    </tr>\n",
       "    <tr>\n",
       "      <th>13</th>\n",
       "      <td>beautiful</td>\n",
       "      <td>622.2</td>\n",
       "    </tr>\n",
       "    <tr>\n",
       "      <th>14</th>\n",
       "      <td>girl</td>\n",
       "      <td>375.9</td>\n",
       "    </tr>\n",
       "    <tr>\n",
       "      <th>15</th>\n",
       "      <td>friends</td>\n",
       "      <td>382.7</td>\n",
       "    </tr>\n",
       "    <tr>\n",
       "      <th>16</th>\n",
       "      <td>me</td>\n",
       "      <td>408.3</td>\n",
       "    </tr>\n",
       "    <tr>\n",
       "      <th>17</th>\n",
       "      <td>tbt</td>\n",
       "      <td>509.6</td>\n",
       "    </tr>\n",
       "    <tr>\n",
       "      <th>18</th>\n",
       "      <td>cute</td>\n",
       "      <td>537.2</td>\n",
       "    </tr>\n",
       "    <tr>\n",
       "      <th>19</th>\n",
       "      <td>picoftheday</td>\n",
       "      <td>531.7</td>\n",
       "    </tr>\n",
       "    <tr>\n",
       "      <th>20</th>\n",
       "      <td>art</td>\n",
       "      <td>569.6</td>\n",
       "    </tr>\n",
       "    <tr>\n",
       "      <th>21</th>\n",
       "      <td>smile</td>\n",
       "      <td>346.9</td>\n",
       "    </tr>\n",
       "    <tr>\n",
       "      <th>22</th>\n",
       "      <td>love</td>\n",
       "      <td>1700.0</td>\n",
       "    </tr>\n",
       "    <tr>\n",
       "      <th>23</th>\n",
       "      <td>repost</td>\n",
       "      <td>435.3</td>\n",
       "    </tr>\n",
       "    <tr>\n",
       "      <th>24</th>\n",
       "      <td>nature</td>\n",
       "      <td>472.6</td>\n",
       "    </tr>\n",
       "    <tr>\n",
       "      <th>25</th>\n",
       "      <td>instadaily</td>\n",
       "      <td>416.3</td>\n",
       "    </tr>\n",
       "  </tbody>\n",
       "</table>\n",
       "</div>"
      ],
      "text/plain": [
       "   #Tags of Instagram  Instagram photos and videos in (millions)\n",
       "1           instagood                                     1000.0\n",
       "2              follow                                      518.0\n",
       "3              selfie                                      409.2\n",
       "4               style                                      434.1\n",
       "5             fashion                                      746.8\n",
       "6            followme                                      505.8\n",
       "7               happy                                      550.6\n",
       "8                food                                      363.5\n",
       "9              summer                                      444.6\n",
       "10      photooftheday                                      732.4\n",
       "11           likelike                                       12.5\n",
       "12                fun                                      370.4\n",
       "13          beautiful                                      622.2\n",
       "14               girl                                      375.9\n",
       "15            friends                                      382.7\n",
       "16                 me                                      408.3\n",
       "17                tbt                                      509.6\n",
       "18               cute                                      537.2\n",
       "19        picoftheday                                      531.7\n",
       "20                art                                      569.6\n",
       "21              smile                                      346.9\n",
       "22               love                                     1700.0\n",
       "23             repost                                      435.3\n",
       "24             nature                                      472.6\n",
       "25         instadaily                                      416.3"
      ]
     },
     "execution_count": 89,
     "metadata": {},
     "output_type": "execute_result"
    }
   ],
   "source": [
    "Data_Frame_df"
   ]
  },
  {
   "cell_type": "code",
   "execution_count": 90,
   "metadata": {},
   "outputs": [
    {
     "data": {
      "text/html": [
       "<div>\n",
       "<style scoped>\n",
       "    .dataframe tbody tr th:only-of-type {\n",
       "        vertical-align: middle;\n",
       "    }\n",
       "\n",
       "    .dataframe tbody tr th {\n",
       "        vertical-align: top;\n",
       "    }\n",
       "\n",
       "    .dataframe thead th {\n",
       "        text-align: right;\n",
       "    }\n",
       "</style>\n",
       "<table border=\"1\" class=\"dataframe\">\n",
       "  <thead>\n",
       "    <tr style=\"text-align: right;\">\n",
       "      <th></th>\n",
       "      <th>Instagram photos and videos in (millions)</th>\n",
       "    </tr>\n",
       "  </thead>\n",
       "  <tbody>\n",
       "    <tr>\n",
       "      <th>count</th>\n",
       "      <td>25.00000</td>\n",
       "    </tr>\n",
       "    <tr>\n",
       "      <th>mean</th>\n",
       "      <td>535.84800</td>\n",
       "    </tr>\n",
       "    <tr>\n",
       "      <th>std</th>\n",
       "      <td>299.97648</td>\n",
       "    </tr>\n",
       "    <tr>\n",
       "      <th>min</th>\n",
       "      <td>12.50000</td>\n",
       "    </tr>\n",
       "    <tr>\n",
       "      <th>25%</th>\n",
       "      <td>408.30000</td>\n",
       "    </tr>\n",
       "    <tr>\n",
       "      <th>50%</th>\n",
       "      <td>472.60000</td>\n",
       "    </tr>\n",
       "    <tr>\n",
       "      <th>75%</th>\n",
       "      <td>550.60000</td>\n",
       "    </tr>\n",
       "    <tr>\n",
       "      <th>max</th>\n",
       "      <td>1700.00000</td>\n",
       "    </tr>\n",
       "  </tbody>\n",
       "</table>\n",
       "</div>"
      ],
      "text/plain": [
       "       Instagram photos and videos in (millions)\n",
       "count                                   25.00000\n",
       "mean                                   535.84800\n",
       "std                                    299.97648\n",
       "min                                     12.50000\n",
       "25%                                    408.30000\n",
       "50%                                    472.60000\n",
       "75%                                    550.60000\n",
       "max                                   1700.00000"
      ]
     },
     "execution_count": 90,
     "metadata": {},
     "output_type": "execute_result"
    }
   ],
   "source": [
    "Data_Frame_df.describe()\n"
   ]
  },
  {
   "cell_type": "code",
   "execution_count": 94,
   "metadata": {},
   "outputs": [],
   "source": [
    "import seaborn as sb\n",
    "import matplotlib.pyplot as plt\n",
    "%matplotlib inline"
   ]
  },
  {
   "cell_type": "code",
   "execution_count": 96,
   "metadata": {},
   "outputs": [
    {
     "data": {
      "text/plain": [
       "<seaborn.axisgrid.PairGrid at 0x198e8f503c8>"
      ]
     },
     "execution_count": 96,
     "metadata": {},
     "output_type": "execute_result"
    },
    {
     "data": {
      "text/plain": [
       "<Figure size 1440x1080 with 0 Axes>"
      ]
     },
     "metadata": {},
     "output_type": "display_data"
    },
    {
     "data": {
      "image/png": "[encoded data removed]",
      "text/plain": [
       "<Figure size 180x180 with 2 Axes>"
      ]
     },
     "metadata": {
      "needs_background": "light"
     },
     "output_type": "display_data"
    }
   ],
   "source": [
    "plt.figure(figsize=(20,15))\n",
    "sb.pairplot(Data_Frame_df)"
   ]
  },
  {
   "cell_type": "code",
   "execution_count": 97,
   "metadata": {},
   "outputs": [
    {
     "data": {
      "text/plain": [
       "Index(['#Tags of Instagram', 'Instagram photos and videos in (millions)'], dtype='object')"
      ]
     },
     "execution_count": 97,
     "metadata": {},
     "output_type": "execute_result"
    }
   ],
   "source": [
    "Data_Frame_df.columns"
   ]
  },
  {
   "cell_type": "code",
   "execution_count": 105,
   "metadata": {},
   "outputs": [
    {
     "data": {
      "text/plain": [
       "<seaborn.axisgrid.FacetGrid at 0x198ea9ba588>"
      ]
     },
     "execution_count": 105,
     "metadata": {},
     "output_type": "execute_result"
    },
    {
     "data": {
      "text/plain": [
       "<Figure size 7200x2880 with 0 Axes>"
      ]
     },
     "metadata": {},
     "output_type": "display_data"
    },
    {
     "data": {
      "image/png": "[encoded data removed]",
      "text/plain": [
       "<Figure size 360x360 with 1 Axes>"
      ]
     },
     "metadata": {
      "needs_background": "light"
     },
     "output_type": "display_data"
    }
   ],
   "source": [
    "plt.figure(figsize=(100,40))\n",
    "sb.catplot(x=\"#Tags of Instagram\",y='Instagram photos and videos in (millions)',data=Data_Frame_df)"
   ]
  },
  {
   "cell_type": "code",
   "execution_count": 112,
   "metadata": {},
   "outputs": [
    {
     "data": {
      "text/plain": [
       "<matplotlib.axes._subplots.AxesSubplot at 0x198e98b3978>"
      ]
     },
     "execution_count": 112,
     "metadata": {},
     "output_type": "execute_result"
    },
    {
     "data": {
      "image/png": "[encoded data removed]",
      "text/plain": [
       "<Figure size 2160x1080 with 1 Axes>"
      ]
     },
     "metadata": {
      "needs_background": "light"
     },
     "output_type": "display_data"
    }
   ],
   "source": [
    "plt.figure(figsize=(30,15))\n",
    "sb.barplot(x=\"#Tags of Instagram\",y='Instagram photos and videos in (millions)',data=Data_Frame_df)"
   ]
  },
  {
   "cell_type": "code",
   "execution_count": 114,
   "metadata": {},
   "outputs": [
    {
     "data": {
      "text/plain": [
       "<matplotlib.axes._subplots.AxesSubplot at 0x198ebe01a20>"
      ]
     },
     "execution_count": 114,
     "metadata": {},
     "output_type": "execute_result"
    },
    {
     "data": {
      "image/png": "[encoded data removed]",
      "text/plain": [
       "<Figure size 432x288 with 1 Axes>"
      ]
     },
     "metadata": {
      "needs_background": "light"
     },
     "output_type": "display_data"
    }
   ],
   "source": [
    "sb.kdeplot(Data_Frame_df['Instagram photos and videos in (millions)'])"
   ]
  },
  {
   "cell_type": "code",
   "execution_count": 118,
   "metadata": {},
   "outputs": [
    {
     "data": {
      "text/plain": [
       "<matplotlib.axes._subplots.AxesSubplot at 0x198f1968828>"
      ]
     },
     "execution_count": 118,
     "metadata": {},
     "output_type": "execute_result"
    },
    {
     "data": {
      "image/png": "[encoded data removed]",
      "text/plain": [
       "<Figure size 1440x720 with 1 Axes>"
      ]
     },
     "metadata": {
      "needs_background": "light"
     },
     "output_type": "display_data"
    }
   ],
   "source": [
    "plt.figure(figsize=(20,10))\n",
    "plt.title('Instsgram Analysis')\n",
    "sb.countplot(x=\"#Tags of Instagram\",data=Data_Frame_df)"
   ]
  },
  {
   "cell_type": "code",
   "execution_count": null,
   "metadata": {},
   "outputs": [],
   "source": []
  }
 ],
 "metadata": {
  "kernelspec": {
   "display_name": "Python 3",
   "language": "python",
   "name": "python3"
  },
  "language_info": {
   "codemirror_mode": {
    "name": "ipython",
    "version": 3
   },
   "file_extension": ".py",
   "mimetype": "text/x-python",
   "name": "python",
   "nbconvert_exporter": "python",
   "pygments_lexer": "ipython3",
   "version": "3.7.3"
  }
 },
 "nbformat": 4,
 "nbformat_minor": 2
}
